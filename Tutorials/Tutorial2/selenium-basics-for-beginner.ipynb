{
 "cells": [
  {
   "cell_type": "code",
   "execution_count": null,
   "metadata": {},
   "outputs": [],
   "source": [
    "!pip install selenium"
   ]
  },
  {
   "cell_type": "markdown",
   "metadata": {},
   "source": [
    "# Import libraries"
   ]
  },
  {
   "cell_type": "code",
   "execution_count": 29,
   "metadata": {},
   "outputs": [],
   "source": [
    "from selenium import webdriver\n",
    "from selenium.webdriver.common.by import By\n",
    "from selenium.webdriver.common.keys import Keys\n",
    "from selenium.common.exceptions import NoSuchElementException"
   ]
  },
  {
   "cell_type": "markdown",
   "metadata": {},
   "source": [
    "# Manipulate the browser"
   ]
  },
  {
   "cell_type": "markdown",
   "metadata": {},
   "source": [
    "Open the browser and assign it to a variable called `driver`. Once we have the driver, we can call its built-in methods to manipulate the browser. "
   ]
  },
  {
   "cell_type": "code",
   "execution_count": 34,
   "metadata": {},
   "outputs": [],
   "source": [
    "driver = webdriver.Chrome()"
   ]
  },
  {
   "cell_type": "markdown",
   "metadata": {},
   "source": [
    "For example, we can use the `get` method to open a webpage."
   ]
  },
  {
   "cell_type": "code",
   "execution_count": 35,
   "metadata": {},
   "outputs": [],
   "source": [
    "driver.get(\"https://www.google.com\")"
   ]
  },
  {
   "cell_type": "markdown",
   "metadata": {},
   "source": [
    "Click the `Accept all` button to accept cookies.\n",
    "\n",
    "In this case, we will perform two actions:\n",
    "- Find the button\n",
    "- Click the button\n",
    "\n",
    "Here, we use XPath to find the button. XPath is a query language used for selecting nodes from an HTML or XML document.. You can easily find the XPath of an element from the source code of the webpage. Once we have the XPath, we can use the `find_element` method to find the button and the `click` method to click the button.\n"
   ]
  },
  {
   "cell_type": "code",
   "execution_count": 9,
   "metadata": {},
   "outputs": [],
   "source": [
    "driver.find_element(By.XPATH, '//*[@id=\"L2AGLb\"]').click()"
   ]
  },
  {
   "cell_type": "markdown",
   "metadata": {},
   "source": [
    "Next, we can put some words in the search bar and trigger enter to search.\n",
    "\n",
    "This is the search bar element:\n",
    "    \n",
    "```html\n",
    "<textarea jsname=\"yZiJbe\" class=\"gLFyf\" jsaction=\"paste:puy29d;\" id=\"APjFqb\" maxlength=\"2048\" name=\"q\" rows=\"1\" aria-activedescendant=\"\" aria-autocomplete=\"both\" aria-controls=\"Alh6id\" aria-expanded=\"false\" aria-haspopup=\"both\" aria-owns=\"Alh6id\" autocapitalize=\"off\" autocomplete=\"off\" autocorrect=\"off\" autofocus=\"\" role=\"combobox\" spellcheck=\"false\" title=\"Search\" type=\"search\" value=\"\" aria-label=\"Search\" data-ved=\"0ahUKEwjk7M_15O6DAxUdR6QEHQPZAh0Q39UDCAY\" style=\"\"></textarea>\n",
    "```"
   ]
  },
  {
   "cell_type": "code",
   "execution_count": 12,
   "metadata": {},
   "outputs": [],
   "source": [
    "driver.find_element(By.NAME, 'q').send_keys('selenium python')\n",
    "\n",
    "driver.find_element(By.NAME, 'q').send_keys(Keys.ENTER)"
   ]
  },
  {
   "cell_type": "markdown",
   "metadata": {},
   "source": [
    "Next, we want to collect the search results and save their titles and links in a list. By observing the source code of the webpage, we can find that the titles and links are stored in the following elements:\n",
    "\n",
    "```html\n",
    "<div class=\"MjjYud\">\n",
    "```\n",
    "\n",
    "Thus, we can use the `find_elements` method to find all the elements with the class name `MjjYud`. Then, we can extract the title and link of each element using the appropriate attributes and methods."
   ]
  },
  {
   "cell_type": "code",
   "execution_count": 30,
   "metadata": {},
   "outputs": [
    {
     "name": "stdout",
     "output_type": "stream",
     "text": [
      "[{'text': 'Selenium with Python — Selenium Python Bindings 2 ...', 'link': 'Selenium with Python — Selenium Python Bindings 2 ...\\nSelenium with Python\\nhttps://selenium-python.readthedocs.io'}, {'text': 'selenium · PyPI', 'link': 'selenium · PyPI\\nPyPI\\nhttps://pypi.org › project › selenium'}, {'text': 'An Introduction to Selenium with Python - Simplilearn.com', 'link': ''}, {'text': 'Selenium Python Tutorial (with Example)', 'link': 'Selenium Python Tutorial (with Example)\\nBrowserStack\\nhttps://www.browserstack.com › Guide'}, {'text': 'Modern Web Automation With Python and Selenium', 'link': 'Modern Web Automation With Python and Selenium\\nReal Python\\nhttps://realpython.com › modern-web-automation-wi...'}, {'text': 'Selenium Python Tutorial', 'link': 'Selenium Python Tutorial\\nGeeksforGeeks\\nhttps://www.geeksforgeeks.org › selenium-python-tu...'}, {'text': 'An Introduction to Selenium with Python', 'link': 'An Introduction to Selenium with Python\\nSimplilearn.com\\nhttps://www.simplilearn.com › python-tutorial › sele...'}, {'text': '1. Installation — Selenium Python Bindings 2 documentation', 'link': '1. Installation — Selenium Python Bindings 2 documentation\\nSelenium with Python\\nhttps://selenium-python.readthedocs.io › installation'}, {'text': 'Install a Selenium library', 'link': 'Install a Selenium library\\nSelenium\\nhttps://www.selenium.dev › getting_started › install_l...'}, {'text': '2. Getting Started — Selenium Python Bindings 2 documentation', 'link': '2. Getting Started — Selenium Python Bindings 2 documentation\\nSelenium with Python\\nhttps://selenium-python.readthedocs.io › getting-started'}, {'text': 'Selenium in Python — Getting Started', 'link': 'Selenium in Python — Getting Started\\nMedium · Aaron Harrison\\n7 likes · 6 months ago'}, {'text': '3. Navigating — Selenium Python Bindings 2 documentation', 'link': '3. Navigating — Selenium Python Bindings 2 documentation\\nSelenium with Python\\nhttps://selenium-python.readthedocs.io › navigating'}, {'text': 'Selenium', 'link': 'Selenium\\nSelenium\\nhttps://www.selenium.dev'}, {'text': 'Selenium WebDriver with Python Tutorial', 'link': 'Selenium WebDriver with Python Tutorial\\nJavatpoint\\nhttps://www.javatpoint.com › selenium-python'}, {'text': 'Web Scraping using Selenium and Python | ScrapingBee', 'link': 'Web Scraping using Selenium and Python | ScrapingBee\\nscrapingbee.com\\nhttps://www.scrapingbee.com › blog › selenium-pyth...'}, {'text': '4. Locating Elements - Selenium with Python - Read the Docs', 'link': '4. Locating Elements - Selenium with Python - Read the Docs\\nSelenium with Python\\nhttps://selenium-python.readthedocs.io › locating-elem...'}, {'text': 'Run Selenium tests with Python', 'link': 'Run Selenium tests with Python\\nBrowserStack\\nhttps://www.browserstack.com › docs › getting-started'}, {'text': 'Testing web apps in Python using Selenium WebDriver', 'link': 'Testing web apps in Python using Selenium WebDriver\\nApplitools\\nhttps://applitools.com › tutorials › quickstart › python'}, {'text': '7. WebDriver API — Selenium Python Bindings 2 documentation', 'link': '7. WebDriver API — Selenium Python Bindings 2 documentation\\nSelenium with Python\\nhttps://selenium-python.readthedocs.io › api'}, {'text': 'Handling \"Authentication Required\" alert box with Python ...', 'link': 'Handling \"Authentication Required\" alert box with Python ...\\nStack Overflow\\nhttps://stackoverflow.com › questions › handling-aut...'}, {'text': 'Selenium Webdriver with PYTHON from Scratch + ...', 'link': 'Selenium Webdriver with PYTHON from Scratch + ...\\nUdemy\\nhttps://www.udemy.com › course › learn-selenium-a...'}, {'text': 'Web Scraping with Selenium and Python in 2024', 'link': 'Web Scraping with Selenium and Python in 2024\\nZenRows\\nhttps://www.zenrows.com › Tutorial'}, {'text': 'Selenium with Python Tutorial: Step by Step Guide 2023', 'link': 'Selenium with Python Tutorial: Step by Step Guide 2023\\nQA Touch\\nhttps://www.qatouch.com › blog › selenium-with-pyt...'}, {'text': 'Selenium Python Tutorial For Automated Testing', 'link': 'Selenium Python Tutorial For Automated Testing\\nSauce Labs\\nhttps://saucelabs.com › Blog'}, {'text': 'Selenium Python Tricks', 'link': 'Selenium Python Tricks\\nGeeksforGeeks\\nhttps://www.geeksforgeeks.org › selenium-python-tri...'}, {'text': '6. Page Objects', 'link': '6. Page Objects\\nSelenium with Python\\nhttps://selenium-python.readthedocs.io › page-objects'}, {'text': 'Selenium Python Tutorial : A Python Automation Testing ...', 'link': 'Selenium Python Tutorial : A Python Automation Testing ...\\nLambdaTest\\nhttps://www.lambdatest.com › blog › getting-started-w...'}, {'text': 'Trouble modifying the language option in selenium python ...', 'link': 'Trouble modifying the language option in selenium python ...\\nStack Overflow\\nhttps://stackoverflow.com › questions › trouble-modi...'}, {'text': 'Selenium WebDriver with Python - Test Automation University', 'link': 'Selenium WebDriver with Python - Test Automation University\\nTest Automation University\\nhttps://testautomationu.applitools.com › selenium-we...'}, {'text': 'Selenium Python Tutorial with WebDriver Example', 'link': 'Selenium Python Tutorial with WebDriver Example\\nGuru99\\nhttps://www.guru99.com › Selenium'}, {'text': 'Web Scraping With Selenium in Python (with Example)', 'link': 'Web Scraping With Selenium in Python (with Example)\\nJC Chouinard\\nhttps://www.jcchouinard.com › learn-selenium-pytho...'}, {'text': 'selenium WebDriver', 'link': 'selenium WebDriver\\nGitHub\\nhttps://github.com › selenium › tree › master'}, {'text': 'Selenium with Python Tutorial: Getting started with Test ...', 'link': 'Selenium with Python Tutorial: Getting started with Test ...\\nTestsigma\\nhttps://testsigma.com › blog › python-selenium-exam...'}, {'text': 'Selenium 4.7 Automation with Python', 'link': 'Selenium 4.7 Automation with Python\\nTuring\\nhttps://www.turing.com › blog › selenium-with-pytho...'}, {'text': \"The Beginner's Guide to Selenium With Python | by Steffy Lo\", 'link': \"The Beginner's Guide to Selenium With Python | by Steffy Lo\\nBetter Programming\\nhttps://betterprogramming.pub › the-beginners-guide...\"}, {'text': '5. Waits — Selenium Python Bindings 2 documentation', 'link': '5. Waits — Selenium Python Bindings 2 documentation\\nSelenium with Python\\nhttps://selenium-python.readthedocs.io › waits'}, {'text': '6 | Page Object Model | Selenium Python - YouTube', 'link': '6 | Page Object Model | Selenium Python - YouTube\\nYouTube · Automation Step by Step\\n5.3K+ views · 5 months ago'}, {'text': 'Selenium Python Bindings', 'link': 'Selenium Python Bindings\\nRead the Docs\\nhttps://readthedocs.org › projects › pdf › latest'}, {'text': \"A Complete Selenium Python tutorial for Beginner's\", 'link': \"A Complete Selenium Python tutorial for Beginner's\\nLambdaTest\\nhttps://www.lambdatest.com › Learning Hub\"}, {'text': 'selenium - Python Package Health Analysis', 'link': 'selenium - Python Package Health Analysis\\nSnyk\\nhttps://snyk.io › Advisor › Python packages'}, {'text': 'Selenium WebDriver with Python', 'link': 'Selenium WebDriver with Python\\nCoursera\\nhttps://www.coursera.org › ... › Software Development'}, {'text': 'Selenium Python Tutorial For Beginners', 'link': 'Selenium Python Tutorial For Beginners\\nSoftware Testing Help\\nhttps://www.softwaretestinghelp.com › selenium-pyth...'}, {'text': 'Using selenium webdriver inside a python function?', 'link': 'Using selenium webdriver inside a python function?\\nReddit · r/learnpython\\n3 comments · 3 years ago'}, {'text': 'Important Python Selenium Functions You Must Know', 'link': 'Important Python Selenium Functions You Must Know\\nAskPython\\nhttps://www.askpython.com › python-modules › imp...'}, {'text': 'Using Selenium on PythonAnywhere', 'link': 'Using Selenium on PythonAnywhere\\nPythonAnywhere help\\nhttps://help.pythonanywhere.com › pages › selenium'}, {'text': 'Python testing framework with Selenium', 'link': 'Python testing framework with Selenium\\nTestingBot\\nhttps://testingbot.com › Documentation'}, {'text': 'Selenium Webdriver with Python', 'link': 'Selenium Webdriver with Python\\nIntellipaat\\nhttps://intellipaat.com › blog › selenium-python-tutor...'}, {'text': 'Chromedriver Selenium Python Setup using PyCharm', 'link': 'Chromedriver Selenium Python Setup using PyCharm\\nYouTube · SDET Unicorns by Dilpreet Johal\\n10.6K+ views · 4 months ago'}, {'text': 'Selenium Python Tutorials', 'link': 'Selenium Python Tutorials\\nYouTube · Software and Testing Training\\n78.4K+ followers · 2 months ago'}, {'text': 'How to Automate Login using Selenium in Python', 'link': 'How to Automate Login using Selenium in Python\\nThe Python Code\\nhttps://www.thepythoncode.com › article › automate-l...'}, {'text': 'An Introduction to Web Automation using Selenium Python', 'link': 'An Introduction to Web Automation using Selenium Python\\nMedium · Maximinusjoshus\\n10+ likes · 2 years ago'}, {'text': 'Python Bindings · SeleniumHQ/selenium Wiki', 'link': 'Python Bindings · SeleniumHQ/selenium Wiki\\nGitHub\\nhttps://github.com › SeleniumHQ › Python-Bindings'}, {'text': 'Free Selenium With Python Course For Beginners', 'link': 'Free Selenium With Python Course For Beginners\\nGreat Learning\\nhttps://www.mygreatlearning.com › ... › Python'}, {'text': 'selenium find element by id - Python Tutorial', 'link': 'selenium find element by id - Python Tutorial\\npythonbasics.org\\nhttps://pythonbasics.org › selenium-find-element'}, {'text': 'Introduction to Selenium in Python 3', 'link': 'Introduction to Selenium in Python 3\\nLinux Hint\\nhttps://linuxhint.com › introduction_selenium_python'}, {'text': 'Web Scraping Using Selenium Python', 'link': 'Web Scraping Using Selenium Python\\nAnalytics Vidhya\\nhttps://www.analyticsvidhya.com › blog › 2020/08'}, {'text': 'Selenium Python Beginners Tutorial for Automation Testing', 'link': 'Selenium Python Beginners Tutorial for Automation Testing\\nTestProject\\nhttps://blog.testproject.io › 2020/06/16 › selenium-pyt...'}, {'text': 'Installing ChromeDriver and Python Selenium - Reflect.run', 'link': 'Installing ChromeDriver and Python Selenium - Reflect.run\\nreflect.run\\nhttps://reflect.run › articles › installing-chromedriver-...'}]\n"
     ]
    }
   ],
   "source": [
    "results = driver.find_elements(By.CLASS_NAME, 'MjjYud')\n",
    "\n",
    "results_list = []\n",
    "for result in results:\n",
    "    try:\n",
    "        # get the title from the element, the class name is `LC20lb MBeuO DKV0Md`\n",
    "        result_title = result.find_element(By.CLASS_NAME, 'LC20lb').get_attribute('textContent')\n",
    "        # get the link from the element\n",
    "        result_link = result.find_element(By.TAG_NAME, 'a').text\n",
    "        # print(result_title, result_link)\n",
    "        # add the text and link to the dictionary\n",
    "        results_list.append({'text': result_title, 'link': result_link})\n",
    "    except NoSuchElementException:\n",
    "        pass\n",
    "print(results_list)"
   ]
  },
  {
   "cell_type": "markdown",
   "metadata": {},
   "source": [
    "Quit the browser\n"
   ]
  },
  {
   "cell_type": "code",
   "execution_count": 32,
   "metadata": {},
   "outputs": [],
   "source": [
    "# Quit the browser\n",
    "driver.quit()"
   ]
  }
 ],
 "metadata": {
  "kernelspec": {
   "display_name": "teaching",
   "language": "python",
   "name": "python3"
  },
  "language_info": {
   "codemirror_mode": {
    "name": "ipython",
    "version": 3
   },
   "file_extension": ".py",
   "mimetype": "text/x-python",
   "name": "python",
   "nbconvert_exporter": "python",
   "pygments_lexer": "ipython3",
   "version": "3.11.7"
  }
 },
 "nbformat": 4,
 "nbformat_minor": 2
}
